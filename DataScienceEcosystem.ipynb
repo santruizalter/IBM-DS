{
  "cells": [
    {
      "cell_type": "markdown",
      "metadata": {
        "id": "J3W4GqUFItOi"
      },
      "source": [
        "<center>\n",
        "    <img src=\"https://cf-courses-data.s3.us.cloud-object-storage.appdomain.cloud/IBMDeveloperSkillsNetwork-DS0105EN-SkillsNetwork/labs/Module2/images/SN_web_lightmode.png\" width=\"300\" alt=\"cognitiveclass.ai logo\">\n",
        "</center>\n"
      ]
    },
    {
      "cell_type": "markdown",
      "metadata": {
        "id": "1eQJMqdbItOm"
      },
      "source": [
        "# Data Science Tools and Ecosystem"
      ]
    },
    {
      "cell_type": "markdown",
      "metadata": {
        "id": "dFT-aIARItOo"
      },
      "source": [
        "In this notebook, Data Science Tools and Ecosystem are summarized. This is the final project for \"Tools for Data Science\" MOOC."
      ]
    },
    {
      "cell_type": "markdown",
      "source": [
        "**Objectives:**\n",
        "- List some of the most popular languages in Data Science.\n",
        "- List some of the most popular libraries for Data Science.\n",
        "- List a few Open Source Data Science Tools.\n",
        "- Create and share a Jupyter Notebook with the mentioned points."
      ],
      "metadata": {
        "id": "G_oqHty4fBH9"
      }
    },
    {
      "cell_type": "markdown",
      "metadata": {
        "id": "HWDBoRuLItOp"
      },
      "source": [
        "Some of the popular languages that Data Scientists use are:\n",
        "<ol><li>Python</li><li>R</li><li>SQL</li><li>C++</li><li>Scala</li><li>Java</li><li>Julia</li></ol>"
      ]
    },
    {
      "cell_type": "markdown",
      "metadata": {
        "id": "VAwEVnkpItOp"
      },
      "source": [
        "Some of the commonly used libraries used by Data Scientists in Python include:\n",
        "1. Pandas and Numpy for Scientific Computing.\n",
        "2. Matplotlib and Seaborn for Data Visualization.\n",
        "3. Scikit-learn and Keras for Machine Learning and Deep Learning.\n",
        "4. Tensorflow and PyTorch for Deep Learning."
      ]
    },
    {
      "cell_type": "markdown",
      "metadata": {
        "id": "o1jbZcG-ItOs"
      },
      "source": [
        "|Data Science Tools|\n",
        "|:-:|\n",
        "|Jupyter Lab|\n",
        "|RStudio|\n",
        "|Spyder|"
      ]
    },
    {
      "cell_type": "markdown",
      "metadata": {
        "id": "N9h-VDVLItOt"
      },
      "source": [
        "### Few examples of evaluating arithmetic expressions in Python are:"
      ]
    },
    {
      "cell_type": "code",
      "execution_count": 1,
      "metadata": {
        "colab": {
          "base_uri": "https://localhost:8080/"
        },
        "id": "pQQCME0eItOu",
        "outputId": "dd9af8cf-60d2-4cf9-941d-09f39382f406"
      },
      "outputs": [
        {
          "output_type": "execute_result",
          "data": {
            "text/plain": [
              "17"
            ]
          },
          "metadata": {},
          "execution_count": 1
        }
      ],
      "source": [
        "\"\"\" This is a simple arithmetic expression\n",
        "* is used for multiplication\n",
        "+ is used for sum\n",
        "() are brackets\"\"\"\n",
        "(3 * 4) + 5"
      ]
    },
    {
      "cell_type": "code",
      "execution_count": 2,
      "metadata": {
        "colab": {
          "base_uri": "https://localhost:8080/"
        },
        "id": "gxTCoWvdItOv",
        "outputId": "e18727a7-0aa2-4e9c-9acf-da04d1359e69"
      },
      "outputs": [
        {
          "output_type": "execute_result",
          "data": {
            "text/plain": [
              "3.3333333333333335"
            ]
          },
          "metadata": {},
          "execution_count": 2
        }
      ],
      "source": [
        "# This will convert 200 minutes to hours by diving by 60.\n",
        "200 / 60"
      ]
    },
    {
      "cell_type": "markdown",
      "metadata": {
        "id": "tMKybuCUItOw"
      },
      "source": [
        "## Author:\n",
        "Santiago R."
      ]
    }
  ],
  "metadata": {
    "kernelspec": {
      "display_name": "Python 3 (ipykernel)",
      "language": "python",
      "name": "python3"
    },
    "language_info": {
      "codemirror_mode": {
        "name": "ipython",
        "version": 3
      },
      "file_extension": ".py",
      "mimetype": "text/x-python",
      "name": "python",
      "nbconvert_exporter": "python",
      "pygments_lexer": "ipython3",
      "version": "3.11.9"
    },
    "colab": {
      "provenance": []
    }
  },
  "nbformat": 4,
  "nbformat_minor": 0
}